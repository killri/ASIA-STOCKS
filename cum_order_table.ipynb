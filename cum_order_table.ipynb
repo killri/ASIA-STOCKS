{
 "cells": [
  {
   "cell_type": "code",
   "execution_count": 6,
   "metadata": {},
   "outputs": [
    {
     "name": "stderr",
     "output_type": "stream",
     "text": [
      "C:\\Users\\killr\\AppData\\Local\\Temp\\ipykernel_13788\\3029275798.py:8: MatplotlibDeprecationWarning: The seaborn styles shipped by Matplotlib are deprecated since 3.6, as they no longer correspond to the styles shipped by seaborn. However, they will remain available as 'seaborn-v0_8-<style>'. Alternatively, directly use the seaborn API instead.\n",
      "  plt.style.use('seaborn')\n"
     ]
    }
   ],
   "source": [
    "import pandas as pd\n",
    "import numpy as np\n",
    "import seaborn as sns\n",
    "import matplotlib.pyplot as plt\n",
    "import re\n",
    "\n",
    "%matplotlib inline\n",
    "plt.style.use('seaborn')\n",
    "\n",
    "stats_alm = pd.read_excel('Стат параметры АЛМ.xlsx')\n",
    "stats_ast = pd.read_excel('Стат параметры АСТ.xlsx')\n",
    "stats_smt = pd.read_excel('Стат параметры ШМТ.xlsx')\n",
    "\n",
    "stats_alm['region'] = \"АЛМ\"\n",
    "stats_ast['region'] = \"АСТ\"\n",
    "stats_smt['region'] = \"ШМТ\"\n",
    "stats_cum = pd.concat([stats_alm,stats_ast,stats_smt], axis=0)"
   ]
  },
  {
   "cell_type": "code",
   "execution_count": 9,
   "metadata": {},
   "outputs": [
    {
     "data": {
      "text/plain": [
       "Index(['Unnamed: 0', 'АРТИКУЛ', 'ТОВАР', 'ЕД ИЗМ', 'ПРЯМОЙ', 'ПОСТАВЩИК',\n",
       "       'АКТИВНОСТЬ', 'АГ', 'НГ', 'СТАТУС', 'Кор', 'Объем', 'ДУБЛИКАТЫ',\n",
       "       'КЛИЕНТОВ', 'week_sales_median', 'ДОЛЯ МАКС КЛИЕНТА', 'ЦЕНА',\n",
       "       'stocks_mean', 'stocks_std', 'stocks_max', 'stocks_median',\n",
       "       'curr_stock', 'sales_mean', 'sales_std', 'sales_max', 'sales_median',\n",
       "       'sales_nulls', 'stock_nulls', 'stock_sym', 'sales_sym', 'stocks_mean_$',\n",
       "       'stocks_std_$', 'stocks_max_$', 'stocks_median_$', 'sales_mean_$',\n",
       "       'sales_std_$', 'sales_max_$', 'sales_median_$', 'curr_stock_$',\n",
       "       'week_sales_median_$', 'stocks_mean_$_log', 'stocks_std_$_log',\n",
       "       'stocks_max_$_log', 'stocks_median_$_log', 'sales_mean_$_log',\n",
       "       'sales_std_$_log', 'sales_max_$_log', 'sales_median_$_log',\n",
       "       'КЛИЕНТОВ_log', 'week_sales_median_$_log', 'cluster', 'cluster_name',\n",
       "       'deficit_level', 'curr_deficit', 'curr_deficit_$', 'overstock_level',\n",
       "       'curr_overstok', 'curr_overstok_$', 'risk_zone_level',\n",
       "       'optimum_zone_level', 'risk_zone_level_$', 'optimum_zone_level_$',\n",
       "       'stock_zone', 'order', 'order_comment', 'order_$', 'region'],\n",
       "      dtype='object')"
      ]
     },
     "execution_count": 9,
     "metadata": {},
     "output_type": "execute_result"
    }
   ],
   "source": [
    "stats_cum.columns"
   ]
  },
  {
   "cell_type": "code",
   "execution_count": 15,
   "metadata": {},
   "outputs": [],
   "source": [
    "stats_piv = pd.pivot_table(data=stats_cum, columns='region', \n",
    "                           index=['ТОВАР','ЕД ИЗМ','ПРЯМОЙ','ПОСТАВЩИК','СТАТУС','Кор','Объем','АРТИКУЛ','ДУБЛИКАТЫ','cluster_name','order_comment'],\n",
    "                           values=['КЛИЕНТОВ','order','curr_overstok']).reset_index()\n",
    "stats_piv.to_excel('output\\Потребность общая.xlsx')"
   ]
  }
 ],
 "metadata": {
  "kernelspec": {
   "display_name": "Python 3",
   "language": "python",
   "name": "python3"
  },
  "language_info": {
   "codemirror_mode": {
    "name": "ipython",
    "version": 3
   },
   "file_extension": ".py",
   "mimetype": "text/x-python",
   "name": "python",
   "nbconvert_exporter": "python",
   "pygments_lexer": "ipython3",
   "version": "3.9.10"
  }
 },
 "nbformat": 4,
 "nbformat_minor": 2
}
