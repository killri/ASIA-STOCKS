{
 "cells": [
  {
   "cell_type": "code",
   "execution_count": 1,
   "metadata": {},
   "outputs": [
    {
     "name": "stderr",
     "output_type": "stream",
     "text": [
      "C:\\Users\\killr\\AppData\\Local\\Temp\\ipykernel_6596\\3029275798.py:8: MatplotlibDeprecationWarning: The seaborn styles shipped by Matplotlib are deprecated since 3.6, as they no longer correspond to the styles shipped by seaborn. However, they will remain available as 'seaborn-v0_8-<style>'. Alternatively, directly use the seaborn API instead.\n",
      "  plt.style.use('seaborn')\n"
     ]
    }
   ],
   "source": [
    "import pandas as pd\n",
    "import numpy as np\n",
    "import seaborn as sns\n",
    "import matplotlib.pyplot as plt\n",
    "import re\n",
    "\n",
    "%matplotlib inline\n",
    "plt.style.use('seaborn')\n",
    "\n",
    "stats_alm = pd.read_excel('Стат параметры АЛМ.xlsx')\n",
    "stats_ast = pd.read_excel('Стат параметры АСТ.xlsx')\n",
    "stats_smt = pd.read_excel('Стат параметры ШМТ.xlsx')\n",
    "\n",
    "stats_alm['region'] = \"АЛМ\"\n",
    "stats_ast['region'] = \"АСТ\"\n",
    "stats_smt['region'] = \"ШМТ\"\n",
    "stats_cum = pd.concat([stats_alm,stats_ast,stats_smt], axis=0)"
   ]
  },
  {
   "cell_type": "code",
   "execution_count": 2,
   "metadata": {},
   "outputs": [],
   "source": [
    "stats_cum = stats_cum.fillna({'ДУБЛИКАТЫ':''})"
   ]
  },
  {
   "cell_type": "code",
   "execution_count": 3,
   "metadata": {},
   "outputs": [],
   "source": [
    "stats_piv = pd.pivot_table(data=stats_cum, columns='region', \n",
    "                           index=['ТОВАР','ЕД ИЗМ','ПРЯМОЙ','ПОСТАВЩИК','СТАТУС','Кор','Объем','АРТИКУЛ','ДУБЛИКАТЫ','cluster_name','order_comment'],\n",
    "                           values=['КЛИЕНТОВ','order','В пути','curr_overstok']).reset_index()\n",
    "stats_piv.to_excel('output\\Потребность общая.xlsx')"
   ]
  }
 ],
 "metadata": {
  "kernelspec": {
   "display_name": "Python 3",
   "language": "python",
   "name": "python3"
  },
  "language_info": {
   "codemirror_mode": {
    "name": "ipython",
    "version": 3
   },
   "file_extension": ".py",
   "mimetype": "text/x-python",
   "name": "python",
   "nbconvert_exporter": "python",
   "pygments_lexer": "ipython3",
   "version": "3.9.10"
  }
 },
 "nbformat": 4,
 "nbformat_minor": 2
}
