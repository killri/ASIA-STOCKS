{
 "cells": [
  {
   "cell_type": "code",
   "execution_count": 1,
   "metadata": {},
   "outputs": [],
   "source": [
    "import pandas as pd\n",
    "import numpy as np\n",
    "import seaborn as sns\n",
    "import re"
   ]
  },
  {
   "cell_type": "code",
   "execution_count": 2,
   "metadata": {},
   "outputs": [],
   "source": [
    "Stocks = pd.read_excel('data\\Остатки загрузка АЛМ.xlsx')\n",
    "Stocks = Stocks.rename({'Дата':'ДАТА', 'Артикул':'АРТИКУЛ', 'Цена':'ЦЕНА','Кон ост':'ОСТАТОК','Расход':'РАСХОД'}, axis=1)\n",
    "Stocks['ДАТА'] = Stocks['ДАТА'].apply(lambda x: x[:-8])\n",
    "Stocks['ДАТА'] = pd.to_datetime(Stocks['ДАТА'] , format='%d.%m.%Y')\n",
    "curr_date = str(Stocks['ДАТА'].dt.date.max())\n"
   ]
  },
  {
   "cell_type": "code",
   "execution_count": 3,
   "metadata": {},
   "outputs": [],
   "source": [
    "alm = pd.read_excel('output\\Потребность АЛМ '+curr_date+'.xlsx')\n",
    "ast = pd.read_excel('output\\Потребность АСТ '+curr_date+'.xlsx')\n",
    "smt = pd.read_excel('output\\Потребность ШМТ '+curr_date+'.xlsx')\n",
    "\n",
    "alm['ДУБЛИКАТЫ'] = alm['ДУБЛИКАТЫ'].apply(lambda x: '' if x is np.nan else x)\n",
    "alm['united_code'] = alm['ДУБЛИКАТЫ'] +', '+alm['АРТИКУЛ'].astype('str')\n",
    "alm['united_code'] = alm['united_code'].apply( lambda x: re.sub(r'[\\[\\],]','', x))\n",
    "alm['united_name'] = alm['ТОВАР'] +' '+ alm['ЕД ИЗМ'] +' '+ alm['ПОСТАВЩИК']\n",
    "alm['region'] = 'АЛМ'\n",
    "\n",
    "ast['ДУБЛИКАТЫ'] = ast['ДУБЛИКАТЫ'].apply(lambda x: '' if x is np.nan else x)\n",
    "ast['united_code'] = ast['ДУБЛИКАТЫ'] +', '+ast['АРТИКУЛ'].astype('str')\n",
    "ast['united_code'] = ast['united_code'].apply( lambda x: re.sub(r'[\\[\\],]','', x))\n",
    "ast['united_name'] = ast['ТОВАР'] +' '+ ast['ЕД ИЗМ'] +' '+ ast['ПОСТАВЩИК']\n",
    "ast['region'] = 'АСТ'\n",
    "\n",
    "smt['ДУБЛИКАТЫ'] = smt['ДУБЛИКАТЫ'].apply(lambda x: '' if x is np.nan else x)\n",
    "smt['united_code'] = smt['ДУБЛИКАТЫ'] +', '+smt['АРТИКУЛ'].astype('str')\n",
    "smt['united_code'] = smt['united_code'].apply( lambda x: re.sub(r'[\\[\\],]','', x))\n",
    "smt['united_name'] = smt['ТОВАР'] +' '+ smt['ЕД ИЗМ'] +' '+ smt['ПОСТАВЩИК']\n",
    "smt['region'] = 'ШМТ'"
   ]
  },
  {
   "cell_type": "markdown",
   "metadata": {},
   "source": [
    "Определяем пересечения"
   ]
  },
  {
   "cell_type": "code",
   "execution_count": 4,
   "metadata": {},
   "outputs": [
    {
     "name": "stderr",
     "output_type": "stream",
     "text": [
      "C:\\Users\\killr\\AppData\\Local\\Temp\\ipykernel_12200\\3354644002.py:40: PerformanceWarning: dropping on a non-lexsorted multi-index without a level parameter may impact performance.\n",
      "  total = total[total['sum_movement']>0].drop(['sum_movement'], axis=1)\n"
     ]
    }
   ],
   "source": [
    "total = pd.concat([alm,ast,smt], axis=0)\n",
    "total_united_codes = total.groupby(['united_name', 'ПОСТАВЩИК'])['united_code'].unique().reset_index()\n",
    "\n",
    "\n",
    "total_united_codes['united_code'] = total_united_codes['united_code'].astype('str').apply( lambda x: re.sub(r'[\\[\\],]','', x).split()).astype('str')\n",
    "\n",
    "total_united_codes['united_code'] = total_united_codes['united_code'].apply( lambda x: set(re.sub(r'[\\[\\],\\']','', x).split()) ^ {'\"\"',})\n",
    "\n",
    "\n",
    "total = pd.pivot_table(data=total, columns='region', index=['united_name','ТОВАР','ПОСТАВЩИК'], values=['order','curr_overstok'], aggfunc='sum').fillna(0).reset_index()\n",
    "\n",
    "\n",
    "def set_un_code(x):\n",
    "    return total_united_codes[total_united_codes['united_name'] == x]['united_code'].iloc[0]\n",
    "\n",
    "total['united_code'] = total['united_name'].apply(set_un_code)\n",
    "\n",
    "def count_needs(from_, to_, un_name):\n",
    "    return min(total[total['united_name']==un_name][('curr_overstok', from_)].iloc[0] , total[total['united_name']==un_name][('order', to_)].iloc[0])\n",
    "\n",
    "\n",
    "total['ШМТ-АЛМ'] = total['united_name'].apply(lambda x: count_needs('ШМТ','АЛМ',x))\n",
    "total[('order','АЛМ')] = total[('order','АЛМ')] - total['ШМТ-АЛМ'] \n",
    "total[('curr_overstok','ШМТ')] = total[('curr_overstok','ШМТ')] - total['ШМТ-АЛМ'] \n",
    "\n",
    "total['АСТ-АЛМ'] = total['united_name'].apply(lambda x: count_needs('АСТ','АЛМ',x))\n",
    "total[('order','АЛМ')] = total[('order','АЛМ')] - total['АСТ-АЛМ'] \n",
    "total[('curr_overstok','АСТ')] = total[('curr_overstok','АСТ')] - total['АСТ-АЛМ'] \n",
    "\n",
    "total['АЛМ-ШМТ'] = total['united_name'].apply(lambda x: count_needs('АЛМ','ШМТ',x))\n",
    "total[('order','ШМТ')] = total[('order','ШМТ')] - total['АЛМ-ШМТ'] \n",
    "total[('curr_overstok','АЛМ')] = total[('curr_overstok','АЛМ')] - total['АЛМ-ШМТ'] \n",
    "\n",
    "total['АЛМ-АСТ'] = total['united_name'].apply(lambda x: count_needs('АЛМ','АСТ',x))\n",
    "total[('order','АСТ')] = total[('order','АСТ')] - total['АЛМ-АСТ'] \n",
    "total[('curr_overstok','АЛМ')] = total[('curr_overstok','АЛМ')] - total['АЛМ-АСТ'] \n",
    "\n",
    "total['sum_movement'] = total['ШМТ-АЛМ'] + total['АСТ-АЛМ'] + total['АЛМ-ШМТ'] + total['АЛМ-АСТ']\n",
    "\n",
    "total = total[total['sum_movement']>0].drop(['sum_movement'], axis=1)\n",
    "total.to_excel('output\\Перемещения '+curr_date+'.xlsx')\n"
   ]
  }
 ],
 "metadata": {
  "kernelspec": {
   "display_name": "Python 3",
   "language": "python",
   "name": "python3"
  },
  "language_info": {
   "codemirror_mode": {
    "name": "ipython",
    "version": 3
   },
   "file_extension": ".py",
   "mimetype": "text/x-python",
   "name": "python",
   "nbconvert_exporter": "python",
   "pygments_lexer": "ipython3",
   "version": "3.9.10"
  }
 },
 "nbformat": 4,
 "nbformat_minor": 2
}
